{
 "cells": [
  {
   "cell_type": "code",
   "execution_count": 1,
   "metadata": {},
   "outputs": [],
   "source": [
    "import sys\n",
    "sys.path.insert(0, '..')"
   ]
  },
  {
   "cell_type": "code",
   "execution_count": 2,
   "metadata": {},
   "outputs": [],
   "source": [
    "from sna.sentiment.SentimentClassifier import SentimentClassifier\n",
    "import os\n",
    "from os import path"
   ]
  },
  {
   "cell_type": "code",
   "execution_count": 3,
   "metadata": {},
   "outputs": [],
   "source": [
    "test = ['Kemarin saya dan Menteri PUPR Pak Basuki Hadimuljono ada di Serpong untuk topping off rumah susun pertama yang terintegrasi dengan transportasi massal dan dirancang untuk para milenial. https://t.co/MDq7sNN9hY']"
   ]
  },
  {
   "cell_type": "code",
   "execution_count": 4,
   "metadata": {},
   "outputs": [],
   "source": [
    "dict_label = {0: 'netral', 1: 'positif', 2: 'negatif'}"
   ]
  },
  {
   "cell_type": "code",
   "execution_count": 7,
   "metadata": {},
   "outputs": [],
   "source": [
    "classifier = SentimentClassifier()"
   ]
  },
  {
   "cell_type": "code",
   "execution_count": 9,
   "metadata": {},
   "outputs": [],
   "source": [
    "pred = classifier.predict(test)"
   ]
  },
  {
   "cell_type": "code",
   "execution_count": 10,
   "metadata": {},
   "outputs": [
    {
     "data": {
      "text/plain": [
       "[[221,\n",
       "  56,\n",
       "  4,\n",
       "  855,\n",
       "  18467,\n",
       "  93,\n",
       "  18468,\n",
       "  18469,\n",
       "  10,\n",
       "  7,\n",
       "  18470,\n",
       "  20,\n",
       "  6181,\n",
       "  1284,\n",
       "  140,\n",
       "  4277,\n",
       "  310,\n",
       "  2,\n",
       "  18471,\n",
       "  19,\n",
       "  4766,\n",
       "  2475,\n",
       "  4,\n",
       "  18472,\n",
       "  20,\n",
       "  284,\n",
       "  2498,\n",
       "  18473,\n",
       "  18474,\n",
       "  2399,\n",
       "  18475]]"
      ]
     },
     "execution_count": 10,
     "metadata": {},
     "output_type": "execute_result"
    }
   ],
   "source": [
    "classifier.tokenizer.texts_to_sequences(test)"
   ]
  },
  {
   "cell_type": "code",
   "execution_count": 11,
   "metadata": {},
   "outputs": [
    {
     "name": "stdout",
     "output_type": "stream",
     "text": [
      "test: ['Kemarin saya dan Menteri PUPR Pak Basuki Hadimuljono ada di Serpong untuk topping off rumah susun pertama yang terintegrasi dengan transportasi massal dan dirancang untuk para milenial. https://t.co/MDq7sNN9hY'], label: netral\n"
     ]
    }
   ],
   "source": [
    "print(f'test: {test}, label: {dict_label[pred]}')"
   ]
  },
  {
   "cell_type": "code",
   "execution_count": 12,
   "metadata": {},
   "outputs": [],
   "source": [
    "import tensorflow as tf"
   ]
  },
  {
   "cell_type": "code",
   "execution_count": 13,
   "metadata": {},
   "outputs": [
    {
     "data": {
      "text/plain": [
       "[]"
      ]
     },
     "execution_count": 13,
     "metadata": {},
     "output_type": "execute_result"
    }
   ],
   "source": [
    "tf.config.list_physical_devices('GPU')"
   ]
  },
  {
   "cell_type": "code",
   "execution_count": null,
   "metadata": {},
   "outputs": [],
   "source": []
  }
 ],
 "metadata": {
  "kernelspec": {
   "display_name": "Python 3",
   "language": "python",
   "name": "python3"
  },
  "language_info": {
   "codemirror_mode": {
    "name": "ipython",
    "version": 3
   },
   "file_extension": ".py",
   "mimetype": "text/x-python",
   "name": "python",
   "nbconvert_exporter": "python",
   "pygments_lexer": "ipython3",
   "version": "3.8.4"
  }
 },
 "nbformat": 4,
 "nbformat_minor": 4
}